{
 "cells": [
  {
   "cell_type": "code",
   "execution_count": null,
   "metadata": {},
   "outputs": [],
   "source": [
    "import numpy as np\n",
    "import pandas as pd\n",
    "import os\n",
    "from sklearn.model_selection import train_test_split\n",
    "from sklearn.metrics import classification_report"
   ]
  },
  {
   "cell_type": "code",
   "execution_count": 69,
   "metadata": {},
   "outputs": [],
   "source": [
    "current_dir = os.listdir()"
   ]
  },
  {
   "cell_type": "code",
   "execution_count": 70,
   "metadata": {},
   "outputs": [],
   "source": [
    "temp_ratings = pd.read_csv('ratings.txt', header=None)"
   ]
  },
  {
   "cell_type": "code",
   "execution_count": 71,
   "metadata": {},
   "outputs": [
    {
     "data": {
      "text/plain": [
       "'06_lo.csv'"
      ]
     },
     "execution_count": 71,
     "metadata": {},
     "output_type": "execute_result"
    }
   ],
   "source": [
    "current_dir[0]"
   ]
  },
  {
   "cell_type": "code",
   "execution_count": 72,
   "metadata": {
    "scrolled": true
   },
   "outputs": [],
   "source": [
    "eeg_data = []\n",
    "\n",
    "for ftemp in current_dir:\n",
    "    if ftemp[-3:] == 'csv':\n",
    "        tgt_partic = int(ftemp[0:2])\n",
    "        temprat = temp_ratings[temp_ratings[0] == tgt_partic]\n",
    "        if len(temprat)==0:\n",
    "            tgt_partic_rat = np.array([[0,0,0]])\n",
    "        else:\n",
    "            tgt_partic_rat = temprat.values\n",
    "        \n",
    "        dftemp = pd.read_csv(ftemp, header='infer')\n",
    "        dftemp['partic'] = tgt_partic\n",
    "        dftemp['hilo'] = ftemp[3:5]\n",
    "        if ftemp[3:5] == 'hi':\n",
    "            dftemp['subjective_rating'] = tgt_partic_rat[0][2]\n",
    "        else:\n",
    "            dftemp['subjective_rating'] = tgt_partic_rat[0][1]\n",
    "        eeg_data.append(dftemp)\n",
    "        \n",
    "eeg_data = pd.concat(eeg_data)\n",
    "#eeg_data.info()"
   ]
  },
  {
   "cell_type": "code",
   "execution_count": null,
   "metadata": {},
   "outputs": [],
   "source": [
    "eeg_data[0:2000:50]"
   ]
  },
  {
   "cell_type": "code",
   "execution_count": null,
   "metadata": {},
   "outputs": [],
   "source": [
    "eeg_data['hilo'].value_count()"
   ]
  },
  {
   "cell_type": "code",
   "execution_count": 74,
   "metadata": {},
   "outputs": [
    {
     "name": "stdout",
     "output_type": "stream",
     "text": [
      "[4 4 4 ... 1 1 1]\n",
      "[[0.00000000e+00 1.43101935e+05 1.32213736e+02 ... 3.85500267e+01\n",
      "  6.00000000e+00 4.00000000e+00]\n",
      " [1.00000000e+00 1.43091159e+05 1.36803238e+02 ... 4.49039881e+01\n",
      "  6.00000000e+00 4.00000000e+00]\n",
      " [2.00000000e+00 1.42802440e+05 1.20903696e+02 ... 3.83527364e+01\n",
      "  6.00000000e+00 4.00000000e+00]\n",
      " ...\n",
      " [1.47000000e+02 1.42008530e+05 1.58806378e+03 ... 2.43045982e+02\n",
      "  2.70000000e+01 1.00000000e+00]\n",
      " [1.48000000e+02 1.28441692e+05 1.43953598e+02 ... 4.55632537e+01\n",
      "  2.70000000e+01 1.00000000e+00]\n",
      " [1.49000000e+02 1.33428454e+05 5.92693587e+02 ... 1.00823983e+02\n",
      "  2.70000000e+01 1.00000000e+00]]\n"
     ]
    }
   ],
   "source": [
    "#Grab an array containing all the actual data for all columns:\n",
    "eeg_data.values\n",
    "\n",
    "#Grab the data for an individual column:\n",
    "eeg_data['partic'].values\n",
    "eeg_data['Unnamed: 0'].values\n",
    "\n",
    "\n",
    "#took out hilo\n",
    "feature_df = eeg_data[['Unnamed: 0', 'AF3_Delta', 'AF3_Theta', 'AF3_Alpha', 'AF3_Beta', 'AF3_Gamma', 'F7_Delta', \n",
    "                       'F7_Theta', 'F7_Alpha', 'F7_Beta', 'F7_Gamma', 'F3_Delta', 'F3_Theta', 'F3_Alpha', 'F3_Beta',\n",
    "                       'F3_Gamma', 'FC5_Delta', 'FC5_Theta', 'FC5_Alpha', 'FC5_Beta', 'FC5_Gamma', 'T7_Delta', 'T7_Theta',\n",
    "                       'T7_Alpha', 'T7_Beta', 'T7_Gamma', 'P7_Delta', 'P7_Theta', 'P7_Alpha', 'P7_Beta', 'P7_Gamma',\n",
    "                       'O1_Delta', 'O1_Theta', 'O1_Alpha', 'O1_Beta', 'O1_Gamma', 'O2_Delta', 'O2_Theta', 'O2_Alpha',\n",
    "                       'O2_Beta', 'O2_Gamma', 'P8_Delta', 'P8_Theta', 'P8_Alpha', 'P8_Beta', 'P8_Gamma', 'T8_Delta',\n",
    "                       'T8_Theta', 'T8_Alpha', 'T8_Beta', 'T8_Gamma', 'FC6_Delta', 'FC6_Theta', 'FC6_Alpha', 'FC6_Beta',\n",
    "                       'FC6_Gamma', 'F4_Delta', 'F4_Theta', 'F4_Alpha', 'F4_Beta', 'F4_Gamma', 'F8_Delta', 'F8_Theta', \n",
    "                       'F8_Alpha', 'F8_Beta', 'F8_Gamma', 'AF4_Delta','AF4_Theta', 'AF4_Alpha', 'AF4_Beta', 'AF4_Gamma',\n",
    "                       'partic', 'subjective_rating']]\n",
    "\n",
    "#print(feature_df)\n",
    "\n",
    "X = np.asarray(feature_df)\n",
    "\n",
    "y = np.asarray(eeg_data['subjective_rating'])\n",
    "\n",
    "print(y)\n",
    "print(X)\n"
   ]
  },
  {
   "cell_type": "code",
   "execution_count": 75,
   "metadata": {},
   "outputs": [
    {
     "data": {
      "text/plain": [
       "(2700,)"
      ]
     },
     "execution_count": 75,
     "metadata": {},
     "output_type": "execute_result"
    }
   ],
   "source": [
    "#eeg_data --> train/test\n",
    "\n",
    "X_train, X_test, y_train, y_test = train_test_split(X, y, test_size = 0.2, random_state = 4)\n",
    "\n",
    "X_train.shape\n",
    "\n",
    "y_train.shape\n",
    "\n",
    "X_test.shape\n",
    "\n",
    "y_test.shape"
   ]
  },
  {
   "cell_type": "code",
   "execution_count": null,
   "metadata": {},
   "outputs": [],
   "source": [
    "from sklearn import svm\n",
    "\n",
    "#Linear, Polynomial, RBF, Sigmoid\n",
    "#kernel coefficient gamma\n",
    "#2 units of penalty\n",
    "classifier = svm.SVC(kernel= 'linear', gamma='auto', C = 2 )\n",
    "classifier.fit(X_train, y_train)\n",
    "\n",
    "y_predict = classifier.predict(X_test)"
   ]
  },
  {
   "cell_type": "code",
   "execution_count": null,
   "metadata": {},
   "outputs": [],
   "source": [
    "#Results\n",
    "\n",
    "print((classification_report(y_test, y_predict))"
   ]
  },
  {
   "cell_type": "code",
   "execution_count": null,
   "metadata": {},
   "outputs": [],
   "source": []
  }
 ],
 "metadata": {
  "kernelspec": {
   "display_name": "Python 3",
   "language": "python",
   "name": "python3"
  },
  "language_info": {
   "codemirror_mode": {
    "name": "ipython",
    "version": 3
   },
   "file_extension": ".py",
   "mimetype": "text/x-python",
   "name": "python",
   "nbconvert_exporter": "python",
   "pygments_lexer": "ipython3",
   "version": "3.7.6"
  }
 },
 "nbformat": 4,
 "nbformat_minor": 4
}
